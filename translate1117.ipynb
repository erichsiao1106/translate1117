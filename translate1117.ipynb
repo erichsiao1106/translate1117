{
  "nbformat": 4,
  "nbformat_minor": 0,
  "metadata": {
    "colab": {
      "name": "translate1117.ipynb",
      "provenance": [],
      "authorship_tag": "ABX9TyPXRbzwmrd6jh/RVwxxm0u8",
      "include_colab_link": true
    },
    "kernelspec": {
      "name": "python3",
      "display_name": "Python 3"
    }
  },
  "cells": [
    {
      "cell_type": "markdown",
      "metadata": {
        "id": "view-in-github",
        "colab_type": "text"
      },
      "source": [
        "<a href=\"https://colab.research.google.com/github/erichsiao1106/translate1117/blob/main/translate1117.ipynb\" target=\"_parent\"><img src=\"https://colab.research.google.com/assets/colab-badge.svg\" alt=\"Open In Colab\"/></a>"
      ]
    },
    {
      "cell_type": "code",
      "metadata": {
        "id": "6f-1kwO4tBmC",
        "outputId": "dfe9a40a-3aa9-47d8-f1c4-433be205d68a",
        "colab": {
          "base_uri": "https://localhost:8080/"
        }
      },
      "source": [
        "pip install azure-cognitiveservices-speech"
      ],
      "execution_count": 43,
      "outputs": [
        {
          "output_type": "stream",
          "text": [
            "Requirement already satisfied: azure-cognitiveservices-speech in /usr/local/lib/python3.6/dist-packages (1.14.0)\n"
          ],
          "name": "stdout"
        }
      ]
    },
    {
      "cell_type": "code",
      "metadata": {
        "id": "xSlLsJfUuuN6",
        "outputId": "907a26f2-4ccd-4fd3-cece-9a07d87c4dbc",
        "colab": {
          "base_uri": "https://localhost:8080/"
        }
      },
      "source": [
        "from google.colab import drive\n",
        "drive.mount('/content/drive')"
      ],
      "execution_count": null,
      "outputs": [
        {
          "output_type": "stream",
          "text": [
            "Mounted at /content/drive\n"
          ],
          "name": "stdout"
        }
      ]
    },
    {
      "cell_type": "code",
      "metadata": {
        "id": "E9hr2uortN5q"
      },
      "source": [
        "import azure.cognitiveservices.speech as speechsdk"
      ],
      "execution_count": 44,
      "outputs": []
    },
    {
      "cell_type": "code",
      "metadata": {
        "id": "Aqkoj6b1tRsR"
      },
      "source": [
        "speech_config = speechsdk.SpeechConfig(subscription=\"ee59978512394839b60fbbf0c1ffcf99\", region=\"southcentralus\")\n",
        "# speech_config = speechsdk.SpeechConfig(subscription=\"ee59978512394839b60fbbf0c1ffcf99\", region=\"southcentrals\")\n"
      ],
      "execution_count": 45,
      "outputs": []
    },
    {
      "cell_type": "code",
      "metadata": {
        "id": "sZtcqU7kgS1G",
        "outputId": "14b22651-4e5e-4fdb-e7e4-8acfa2df3b7f",
        "colab": {
          "base_uri": "https://localhost:8080/"
        }
      },
      "source": [
        "import azure.cognitiveservices.speech as speechsdk\n",
        "speech_config = speechsdk.SpeechConfig(subscription=\"ee59978512394839b60fbbf0c1ffcf99\", region=\"southcentralus\")\n",
        "speech_config.speech_recognition_language=\"en-CA\"\n",
        "audio_input = speechsdk.AudioConfig(filename=\"/content/錄製 (online-audio-converter.com).wav\")\n",
        "speech_recognizer = speechsdk.SpeechRecognizer(speech_config=speech_config, audio_config=audio_input)\n",
        "result = speech_recognizer.recognize_once_async().get()\n",
        "# print(result.text)\n",
        "import requests, uuid, json\n",
        "\n",
        "# Add your subscription key and endpoint\n",
        "subscription_key = \"e2e8c70c89aa42f5b6d1373c5cd92763\"\n",
        "endpoint = \"https://api.cognitive.microsofttranslator.com\"\n",
        "\n",
        "# Add your location, also known as region. The default is global.\n",
        "# This is required if using a Cognitive Services resource.\n",
        "location = \"southeastasia\"\n",
        "\n",
        "path = '/translate'\n",
        "constructed_url = endpoint + path\n",
        "\n",
        "params = {\n",
        "    'api-version': '3.0',\n",
        "    'to': ['en', 'zh-TW']\n",
        "}\n",
        "constructed_url = endpoint + path\n",
        "\n",
        "headers = {\n",
        "    'Ocp-Apim-Subscription-Key': subscription_key,\n",
        "    'Ocp-Apim-Subscription-Region': location,\n",
        "    'Content-type': 'application/json',\n",
        "    'X-ClientTraceId': str(uuid.uuid4())\n",
        "}\n",
        "\n",
        "# You can pass more than one object in body.\n",
        "body = [{\n",
        "    # 'text': '討厭!'\n",
        "    'text': result.text\n",
        "}]\n",
        "\n",
        "request = requests.post(constructed_url, params=params, headers=headers, json=body)\n",
        "response = request.json()\n",
        "\n",
        "print(json.dumps(response, sort_keys=True, ensure_ascii=False, indent=4, separators=(',', ': ')))\n"
      ],
      "execution_count": 56,
      "outputs": [
        {
          "output_type": "stream",
          "text": [
            "[\n",
            "    {\n",
            "        \"detectedLanguage\": {\n",
            "            \"language\": \"en\",\n",
            "            \"score\": 1.0\n",
            "        },\n",
            "        \"translations\": [\n",
            "            {\n",
            "                \"text\": \"Test, test, turn down. Turn down 30.\",\n",
            "                \"to\": \"en\"\n",
            "            },\n",
            "            {\n",
            "                \"text\": \"測試，測試，拒絕。向下關閉30。\",\n",
            "                \"to\": \"zh-Hant\"\n",
            "            }\n",
            "        ]\n",
            "    }\n",
            "]\n"
          ],
          "name": "stdout"
        }
      ]
    },
    {
      "cell_type": "code",
      "metadata": {
        "id": "Riua6O2ohSHF",
        "outputId": "a619c2ce-baee-4cbd-aa39-c81ebbbd0572",
        "colab": {
          "base_uri": "https://localhost:8080/"
        }
      },
      "source": [
        "import requests, uuid, json\n",
        "\n",
        "# Add your subscription key and endpoint\n",
        "subscription_key = \"e2e8c70c89aa42f5b6d1373c5cd92763\"\n",
        "endpoint = \"https://api.cognitive.microsofttranslator.com\"\n",
        "\n",
        "# Add your location, also known as region. The default is global.\n",
        "# This is required if using a Cognitive Services resource.\n",
        "location = \"southeastasia\"\n",
        "\n",
        "path = '/translate'\n",
        "constructed_url = endpoint + path\n",
        "\n",
        "params = {\n",
        "    'api-version': '3.0',\n",
        "    'to': ['de', 'en']\n",
        "}\n",
        "constructed_url = endpoint + path\n",
        "\n",
        "headers = {\n",
        "    'Ocp-Apim-Subscription-Key': subscription_key,\n",
        "    'Ocp-Apim-Subscription-Region': location,\n",
        "    'Content-type': 'application/json',\n",
        "    'X-ClientTraceId': str(uuid.uuid4())\n",
        "}\n",
        "\n",
        "# You can pass more than one object in body.\n",
        "body = [{\n",
        "    'text': '討厭!'\n",
        "}]\n",
        "\n",
        "request = requests.post(constructed_url, params=params, headers=headers, json=body)\n",
        "response = request.json()\n",
        "\n",
        "print(json.dumps(response, sort_keys=True, ensure_ascii=False, indent=4, separators=(',', ': ')))"
      ],
      "execution_count": 54,
      "outputs": [
        {
          "output_type": "stream",
          "text": [
            "[\n",
            "    {\n",
            "        \"detectedLanguage\": {\n",
            "            \"language\": \"zh-Hant\",\n",
            "            \"score\": 1.0\n",
            "        },\n",
            "        \"translations\": [\n",
            "            {\n",
            "                \"text\": \"Hass!\",\n",
            "                \"to\": \"de\"\n",
            "            },\n",
            "            {\n",
            "                \"text\": \"Hate!\",\n",
            "                \"to\": \"en\"\n",
            "            }\n",
            "        ]\n",
            "    }\n",
            "]\n"
          ],
          "name": "stdout"
        }
      ]
    },
    {
      "cell_type": "code",
      "metadata": {
        "id": "7quz7pjduFx6",
        "outputId": "1ba8e3d8-6c5e-4c91-97c1-61176708e473",
        "colab": {
          "base_uri": "https://localhost:8080/"
        }
      },
      "source": [
        "import azure.cognitiveservices.speech as speechsdk\n",
        "\n",
        "def from_file():\n",
        "    speech_config = speechsdk.SpeechConfig(subscription=\"ee59978512394839b60fbbf0c1ffcf99\", region=\"southcentralus\")\n",
        "    speech_config.speech_recognition_language=\"en-CA\"\n",
        "    # audio_input = speechsdk.AudioConfig(filename=\"/content/5 ways to create stronger connections The Way We Work, a TED series.mp3\")\n",
        "    audio_input = speechsdk.AudioConfig(filename=\"/content/錄製 (online-audio-converter.com).wav\")\n",
        "    speech_recognizer = speechsdk.SpeechRecognizer(speech_config=speech_config, audio_config=audio_input)\n",
        "    \n",
        "    result = speech_recognizer.recognize_once_async().get()\n",
        "    print(result.text)\n",
        "\n",
        "from_file()"
      ],
      "execution_count": 57,
      "outputs": [
        {
          "output_type": "stream",
          "text": [
            "Test, test, turn down. Turn down 30.\n"
          ],
          "name": "stdout"
        }
      ]
    },
    {
      "cell_type": "code",
      "metadata": {
        "id": "RcoyAz2hJu9B"
      },
      "source": [
        "audio_config = speechsdk.audio.AudioConfig(filename=weatherfilename)\n",
        "speech_recognizer = speechsdk.SpeechRecognizer(speech_config=speech_config, audio_config=audio_config)"
      ],
      "execution_count": null,
      "outputs": []
    },
    {
      "cell_type": "code",
      "metadata": {
        "id": "zE7WuRb-IWgX",
        "outputId": "87ae8748-8d8e-4fcb-b582-553f6783eb39",
        "colab": {
          "base_uri": "https://localhost:8080/"
        }
      },
      "source": [
        "import azure.cognitiveservices.speech as speechsdk\n",
        "\n",
        "def from_file():\n",
        "    speech_config = speechsdk.SpeechConfig(subscription=\"ee59978512394839b60fbbf0c1ffcf99\", region=\"southcentralus\")\n",
        "    speech_config.speech_recognition_language=\"zh-TW\"\n",
        "    # audio_input = speechsdk.AudioConfig(filename=\"/content/5 ways to create stronger connections The Way We Work, a TED series.mp3\")\n",
        "    audio_config = speechsdk.audio.AudioConfig(filename=\"/content/錄製 (online-audio-converter.com).wav\")\n",
        "    # audio_input = speechsdk.AudioConfig(filename=\"/content/錄製 (online-audio-converter.com).wav\")\n",
        "    speech_recognizer = speechsdk.SpeechRecognizer(speech_config=speech_config, audio_config=audio_config)\n",
        "    speech_recognizer.recognizing.connect(lambda evt: print('RECOGNIZING: {}'.format(evt)))\n",
        "    # speech_recognizer.recognized.connect(lambda evt: print('RECOGNIZED: {}'.format(evt)))\n",
        "    # speech_recognizer.session_started.connect(lambda evt: print('SESSION STARTED: {}'.format(evt)))\n",
        "    # speech_recognizer.session_stopped.connect(lambda evt: print('SESSION STOPPED {}'.format(evt)))\n",
        "    # speech_recognizer.canceled.connect(lambda evt: print('CANCELED {}'.format(evt)))\n",
        "    # def stop_cb(evt):\n",
        "    #     print('CLOSING on {}'.format(evt))\n",
        "    #     speech_recognizer.stop_continuous_recognition()\n",
        "    #     nonlocal done\n",
        "    #     done = True\n",
        "\n",
        "    # speech_recognizer.session_stopped.connect(stop_cb)\n",
        "    # speech_recognizer.canceled.connect(stop_cb)\n",
        "\n",
        "    # speech_recognizer.start_continuous_recognition()\n",
        "    # done = False\n",
        "    result = speech_recognizer.recognize_once_async().get()\n",
        "    # result = speech_recognizer.start_continuous_recognition()\n",
        "    # print(result.text)\n",
        "\n",
        "from_file()\n",
        "\n",
        "    # def stop_cb(evt):\n",
        "    #     print('CLOSING on {}'.format(evt))\n",
        "    #     speech_recognizer.stop_continuous_recognition()\n",
        "    #     nonlocal done\n",
        "    #     done = True\n",
        "# from_file()\n",
        "# speech_recognizer.recognizing.connect(lambda evt: print('RECOGNIZING: {}'.format(evt)))\n",
        "# speech_recognizer.recognized.connect(lambda evt: print('RECOGNIZED: {}'.format(evt)))\n",
        "# speech_recognizer.session_started.connect(lambda evt: print('SESSION STARTED: {}'.format(evt)))\n",
        "# speech_recognizer.session_stopped.connect(lambda evt: print('SESSION STOPPED {}'.format(evt)))\n",
        "# speech_recognizer.canceled.connect(lambda evt: print('CANCELED {}'.format(evt)))\n",
        "\n",
        "# speech_recognizer.session_stopped.connect(stop_cb)\n",
        "# speech_recognizer.canceled.connect(stop_cb)\n",
        "\n",
        "# speech_recognizer.start_continuous_recognition()\n",
        "# while not done:\n",
        "#     time.sleep(.5)"
      ],
      "execution_count": 42,
      "outputs": [
        {
          "output_type": "stream",
          "text": [
            "RECOGNIZING: SpeechRecognitionEventArgs(session_id=efdccde31034461896e064bf79d6813b, result=SpeechRecognitionResult(result_id=b7db91b7ae1540eda1cb0a1609cd26da, text=\"taste\", reason=ResultReason.RecognizingSpeech))\n",
            "RECOGNIZING: SpeechRecognitionEventArgs(session_id=efdccde31034461896e064bf79d6813b, result=SpeechRecognitionResult(result_id=6610083dce664a06bed1191be30b7e41, text=\"teste\", reason=ResultReason.RecognizingSpeech))\n",
            "RECOGNIZING: SpeechRecognitionEventArgs(session_id=efdccde31034461896e064bf79d6813b, result=SpeechRecognitionResult(result_id=d5ed78ef2b3946d3ba5f65d439397825, text=\"teste存檔\", reason=ResultReason.RecognizingSpeech))\n",
            "RECOGNIZING: SpeechRecognitionEventArgs(session_id=efdccde31034461896e064bf79d6813b, result=SpeechRecognitionResult(result_id=b7f694c87c224ac882153973f232d90e, text=\"teste村長村長\", reason=ResultReason.RecognizingSpeech))\n",
            "RECOGNIZING: SpeechRecognitionEventArgs(session_id=efdccde31034461896e064bf79d6813b, result=SpeechRecognitionResult(result_id=62ce5bf43e7d401ca5a5abf9fe781a1a, text=\"teste村長村長測試\", reason=ResultReason.RecognizingSpeech))\n"
          ],
          "name": "stdout"
        }
      ]
    },
    {
      "cell_type": "code",
      "metadata": {
        "id": "4QNVJdD0tosD"
      },
      "source": [
        "import azure.cognitiveservices.speech as speechsdk\n",
        "\n",
        "def from_mic():\n",
        "    speech_config = speechsdk.SpeechConfig(subscription=\"<paste-your-subscription-key>\", region=\"<paste-your-region>\")\n",
        "    speech_recognizer = speechsdk.SpeechRecognizer(speech_config=speech_config)\n",
        "    \n",
        "    print(\"Speak into your microphone.\")\n",
        "    result = speech_recognizer.recognize_once_async().get()\n",
        "    print(result.text)\n",
        "\n",
        "from_mic()\n",
        "\n",
        "def stop_cb(evt):\n",
        "    print('CLOSING on {}'.format(evt))\n",
        "    speech_recognizer.stop_continuous_recognition()\n",
        "    nonlocal done\n",
        "    done = True\n",
        "speech_recognizer.recognizing.connect(lambda evt: print('RECOGNIZING: {}'.format(evt)))\n",
        "speech_recognizer.recognized.connect(lambda evt: print('RECOGNIZED: {}'.format(evt)))\n",
        "speech_recognizer.session_started.connect(lambda evt: print('SESSION STARTED: {}'.format(evt)))\n",
        "speech_recognizer.session_stopped.connect(lambda evt: print('SESSION STOPPED {}'.format(evt)))\n",
        "speech_recognizer.canceled.connect(lambda evt: print('CANCELED {}'.format(evt)))\n",
        "\n",
        "speech_recognizer.session_stopped.connect(stop_cb)\n",
        "speech_recognizer.canceled.connect(stop_cb)\n",
        "\n",
        "speech_recognizer.start_continuous_recognition()\n",
        "while not done:\n",
        "    time.sleep(.5)"
      ],
      "execution_count": null,
      "outputs": []
    }
  ]
}